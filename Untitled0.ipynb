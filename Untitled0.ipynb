{
  "nbformat": 4,
  "nbformat_minor": 0,
  "metadata": {
    "colab": {
      "provenance": [],
      "authorship_tag": "ABX9TyNFiiU3rfaV0ZUC4p1X/CfT",
      "include_colab_link": true
    },
    "kernelspec": {
      "name": "python3",
      "display_name": "Python 3"
    },
    "language_info": {
      "name": "python"
    }
  },
  "cells": [
    {
      "cell_type": "markdown",
      "metadata": {
        "id": "view-in-github",
        "colab_type": "text"
      },
      "source": [
        "<a href=\"https://colab.research.google.com/github/igorjuciel/aulas-Pablo/blob/main/Untitled0.ipynb\" target=\"_parent\"><img src=\"https://colab.research.google.com/assets/colab-badge.svg\" alt=\"Open In Colab\"/></a>"
      ]
    },
    {
      "cell_type": "code",
      "execution_count": 13,
      "metadata": {
        "id": "bCDXVU9k8ULb"
      },
      "outputs": [],
      "source": [
        "num = [1, 5, 9, 2, 7]  "
      ]
    },
    {
      "cell_type": "code",
      "source": [
        "#tamnha de uma linha\n",
        "len(num)"
      ],
      "metadata": {
        "colab": {
          "base_uri": "https://localhost:8080/"
        },
        "id": "CzT_GlY1Bo7H",
        "outputId": "28387f28-9b25-4ce3-ff07-8a2f2f2d1d1b"
      },
      "execution_count": 14,
      "outputs": [
        {
          "output_type": "execute_result",
          "data": {
            "text/plain": [
              "5"
            ]
          },
          "metadata": {},
          "execution_count": 14
        }
      ]
    },
    {
      "cell_type": "code",
      "source": [
        "alunos = ['Geraldo', 'Igor', 'Ailton', 'Beatriz', 'Fernanda', 'Lucas']"
      ],
      "metadata": {
        "id": "DUVk5yd1DKzD"
      },
      "execution_count": 12,
      "outputs": []
    },
    {
      "cell_type": "code",
      "source": [
        "len(alunos)"
      ],
      "metadata": {
        "colab": {
          "base_uri": "https://localhost:8080/"
        },
        "id": "o7j3ssy2EQi4",
        "outputId": "7c339e7c-8221-42f1-de4a-736d849a7dcc"
      },
      "execution_count": 15,
      "outputs": [
        {
          "output_type": "execute_result",
          "data": {
            "text/plain": [
              "6"
            ]
          },
          "metadata": {},
          "execution_count": 15
        }
      ]
    },
    {
      "cell_type": "code",
      "source": [
        "#mudando o nome dos alunos\n",
        "alunos[2] = 'mateus'\n",
        "alunos[5] = 'roberto'\n",
        "alunos"
      ],
      "metadata": {
        "colab": {
          "base_uri": "https://localhost:8080/"
        },
        "id": "r-azn_WiEy5n",
        "outputId": "bdf33c0d-fe88-4916-c029-364c45d7c28a"
      },
      "execution_count": 10,
      "outputs": [
        {
          "output_type": "execute_result",
          "data": {
            "text/plain": [
              "['geraldo', 'igor', 'mateus', 'beatriz', 'fernanda', 'roberto']"
            ]
          },
          "metadata": {},
          "execution_count": 10
        }
      ]
    },
    {
      "cell_type": "code",
      "source": [
        "if 'Ailton' in alunos:"
      ],
      "metadata": {
        "id": "tsMEAZRsFv7z"
      },
      "execution_count": null,
      "outputs": []
    },
    {
      "cell_type": "code",
      "source": [
        "alunos.append('joao')\n",
        "alunos"
      ],
      "metadata": {
        "colab": {
          "base_uri": "https://localhost:8080/"
        },
        "id": "nZErXeDlGXLX",
        "outputId": "42a40765-ff81-46e2-a4a2-181990fd0818"
      },
      "execution_count": 19,
      "outputs": [
        {
          "output_type": "execute_result",
          "data": {
            "text/plain": [
              "['Geraldo',\n",
              " 'Igor',\n",
              " 'Ailton',\n",
              " 'Beatriz',\n",
              " 'Fernanda',\n",
              " 'Lucas',\n",
              " 'loro',\n",
              " 'alberto',\n",
              " 'renata',\n",
              " 'joao']"
            ]
          },
          "metadata": {},
          "execution_count": 19
        }
      ]
    },
    {
      "cell_type": "code",
      "source": [
        "alunos.append(input('digite o nome:'))\n",
        "alunos"
      ],
      "metadata": {
        "colab": {
          "base_uri": "https://localhost:8080/"
        },
        "id": "q6IIUxRQGuRc",
        "outputId": "6d93b981-7f5e-48ce-a287-d19ae609d3ae"
      },
      "execution_count": 22,
      "outputs": [
        {
          "name": "stdout",
          "output_type": "stream",
          "text": [
            "digite o nome:ionara\n"
          ]
        },
        {
          "output_type": "execute_result",
          "data": {
            "text/plain": [
              "['Geraldo',\n",
              " 'Igor',\n",
              " 'Ailton',\n",
              " 'Beatriz',\n",
              " 'Fernanda',\n",
              " 'Lucas',\n",
              " 'loro',\n",
              " 'alberto',\n",
              " 'renata',\n",
              " 'joao',\n",
              " 'ionara',\n",
              " 'ionara']"
            ]
          },
          "metadata": {},
          "execution_count": 22
        }
      ]
    },
    {
      "cell_type": "code",
      "source": [
        "#procurar o nome na lista\n",
        "if 'Ailton' in alunos:\n",
        "  print('tem Ailton SIIMMM')  \n",
        "else:\n",
        "   print('tem Ailton NAAAAAOOOO! ') "
      ],
      "metadata": {
        "colab": {
          "base_uri": "https://localhost:8080/"
        },
        "id": "KopSRGLUM1Vb",
        "outputId": "5d71a91f-2ecb-48f1-d530-0f88d46c3137"
      },
      "execution_count": 27,
      "outputs": [
        {
          "output_type": "stream",
          "name": "stdout",
          "text": [
            "tem Ailton SIIMMM\n"
          ]
        }
      ]
    },
    {
      "cell_type": "code",
      "source": [
        "nome = input('digite o nome: ')\n",
        "if nome in alunos:\n",
        "  print('tem ', nome)\n",
        "else:\n",
        "   print( 'não tem ', nome)  "
      ],
      "metadata": {
        "colab": {
          "base_uri": "https://localhost:8080/"
        },
        "id": "DBCeRrmQPztp",
        "outputId": "b1a5f1d1-2de0-4d00-de3c-d67cf12d0dc9"
      },
      "execution_count": 30,
      "outputs": [
        {
          "output_type": "stream",
          "name": "stdout",
          "text": [
            "digite o nome: Alberto\n",
            "não tem  Alberto\n"
          ]
        }
      ]
    },
    {
      "cell_type": "code",
      "source": [
        "#criar uma lista com numeros de 1 a 15\n",
        "numeros = []\n",
        "for num in range(15):\n",
        "  numeros.append(num)  \n",
        "numeros "
      ],
      "metadata": {
        "colab": {
          "base_uri": "https://localhost:8080/"
        },
        "id": "gYHWCm-ZScTt",
        "outputId": "06ecc7c7-1a11-4f5c-e91f-f743ae706bf0"
      },
      "execution_count": 38,
      "outputs": [
        {
          "output_type": "execute_result",
          "data": {
            "text/plain": [
              "[0, 1, 2, 3, 4, 5, 6, 7, 8, 9, 10, 11, 12, 13, 14]"
            ]
          },
          "metadata": {},
          "execution_count": 38
        }
      ]
    },
    {
      "cell_type": "code",
      "source": [
        "dobro = []\n",
        "for num in numeros:  \n",
        "   dobro.append(numeros [num]*2)\n",
        "dobro"
      ],
      "metadata": {
        "colab": {
          "base_uri": "https://localhost:8080/"
        },
        "id": "LhcyYIdbVBBB",
        "outputId": "69bb6804-7b20-4286-da88-5e8f492d3409"
      },
      "execution_count": 46,
      "outputs": [
        {
          "output_type": "execute_result",
          "data": {
            "text/plain": [
              "[0, 2, 4, 6, 8, 10, 12, 14, 16, 18, 20, 22, 24, 26, 28]"
            ]
          },
          "metadata": {},
          "execution_count": 46
        }
      ]
    },
    {
      "cell_type": "code",
      "source": [
        "#descobrir se o numero é par\n",
        "a = 7\n",
        "if a%2 == 0:\n",
        "  print('é par')\n",
        "else:\n",
        "    print('é impar')"
      ],
      "metadata": {
        "colab": {
          "base_uri": "https://localhost:8080/"
        },
        "id": "_TV7zBnEXL-s",
        "outputId": "c2688c97-f07c-4921-9777-63073c63f2ba"
      },
      "execution_count": 49,
      "outputs": [
        {
          "output_type": "stream",
          "name": "stdout",
          "text": [
            "é impar\n"
          ]
        }
      ]
    },
    {
      "cell_type": "code",
      "source": [
        "\n",
        "for num in numeros:\n",
        " if numeros[num]%2 == 0:\n",
        "    print(numeros[num])"
      ],
      "metadata": {
        "colab": {
          "base_uri": "https://localhost:8080/"
        },
        "id": "bH7driX1YCNW",
        "outputId": "72f8db78-3782-490e-874a-48c4c4108c0f"
      },
      "execution_count": 60,
      "outputs": [
        {
          "output_type": "stream",
          "name": "stdout",
          "text": [
            "0\n",
            "2\n",
            "4\n",
            "6\n",
            "8\n",
            "10\n",
            "12\n",
            "14\n"
          ]
        }
      ]
    }
  ]
}