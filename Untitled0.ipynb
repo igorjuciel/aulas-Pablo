{
  "nbformat": 4,
  "nbformat_minor": 0,
  "metadata": {
    "colab": {
      "provenance": [],
      "authorship_tag": "ABX9TyNtuyuiYw+7mbFcgPpweVrM",
      "include_colab_link": true
    },
    "kernelspec": {
      "name": "python3",
      "display_name": "Python 3"
    },
    "language_info": {
      "name": "python"
    }
  },
  "cells": [
    {
      "cell_type": "markdown",
      "metadata": {
        "id": "view-in-github",
        "colab_type": "text"
      },
      "source": [
        "<a href=\"https://colab.research.google.com/github/igorjuciel/aulas-Pablo/blob/main/Untitled0.ipynb\" target=\"_parent\"><img src=\"https://colab.research.google.com/assets/colab-badge.svg\" alt=\"Open In Colab\"/></a>"
      ]
    },
    {
      "cell_type": "code",
      "execution_count": 4,
      "metadata": {
        "colab": {
          "base_uri": "https://localhost:8080/"
        },
        "id": "XpStpVjcchdA",
        "outputId": "9fa04646-579c-4c13-92ca-cd229606f176"
      },
      "outputs": [
        {
          "output_type": "execute_result",
          "data": {
            "text/plain": [
              "{'Andre': 8.5,\n",
              " 'Ana': 7.0,\n",
              " 'Chico': 6.5,\n",
              " 'Nubia': 10,\n",
              " 'Luana': 8,\n",
              " 'julio': 5.5,\n",
              " 'Aristides': 6.0,\n",
              " 'Sebastian': 9.5,\n",
              " 'Camila': 10,\n",
              " 'Joao': 5}"
            ]
          },
          "metadata": {},
          "execution_count": 4
        }
      ],
      "source": [
        "provaA = {'Andre': 8.5, 'Ana': 7.0, 'Chico': 6.5, 'Nubia': 10, 'Luana': 8}\n",
        "provaB = {'julio': 5.5, 'Aristides' : 6.0, 'Sebastian': 9.5, 'Camila': 10, 'Joao': 5}\n",
        "\n",
        "resultado_final = {}\n",
        "resultado_final.update(provaA)\n",
        "resultado_final.update(provaB)\n",
        "\n",
        "resultado_final"
      ]
    },
    {
      "cell_type": "code",
      "source": [
        "sorted(resultado_final, key = resultado_final.get) #ordenaçao crescente"
      ],
      "metadata": {
        "colab": {
          "base_uri": "https://localhost:8080/"
        },
        "id": "bqPEgrwAgep3",
        "outputId": "581ca58b-822c-49ba-c2d7-601e6299c141"
      },
      "execution_count": 5,
      "outputs": [
        {
          "output_type": "execute_result",
          "data": {
            "text/plain": [
              "['Joao',\n",
              " 'julio',\n",
              " 'Aristides',\n",
              " 'Chico',\n",
              " 'Ana',\n",
              " 'Luana',\n",
              " 'Andre',\n",
              " 'Sebastian',\n",
              " 'Nubia',\n",
              " 'Camila']"
            ]
          },
          "metadata": {},
          "execution_count": 5
        }
      ]
    },
    {
      "cell_type": "code",
      "source": [
        "sorted(resultado_final, key =  resultado_final.get, reverse = True)\n",
        "\n",
        "for nome, nota in resultado_final.items():\n",
        "  print(f'nome: {nome} --- nota: {nota}')"
      ],
      "metadata": {
        "colab": {
          "base_uri": "https://localhost:8080/"
        },
        "id": "qp7ukcINhQP2",
        "outputId": "e8252ac4-bd40-4dbe-d928-dc343fd3d1cd"
      },
      "execution_count": 6,
      "outputs": [
        {
          "output_type": "stream",
          "name": "stdout",
          "text": [
            "nome: Andre --- nota: 8.5\n",
            "nome: Ana --- nota: 7.0\n",
            "nome: Chico --- nota: 6.5\n",
            "nome: Nubia --- nota: 10\n",
            "nome: Luana --- nota: 8\n",
            "nome: julio --- nota: 5.5\n",
            "nome: Aristides --- nota: 6.0\n",
            "nome: Sebastian --- nota: 9.5\n",
            "nome: Camila --- nota: 10\n",
            "nome: Joao --- nota: 5\n"
          ]
        }
      ]
    },
    {
      "cell_type": "code",
      "source": [
        "candidatos = list( resultado_final.keys())\n",
        "\n",
        "candidatos"
      ],
      "metadata": {
        "colab": {
          "base_uri": "https://localhost:8080/"
        },
        "id": "cd41hcj5jVHT",
        "outputId": "f0fb7671-5822-4d58-f6bd-88690cff363a"
      },
      "execution_count": 9,
      "outputs": [
        {
          "output_type": "execute_result",
          "data": {
            "text/plain": [
              "['Andre',\n",
              " 'Ana',\n",
              " 'Chico',\n",
              " 'Nubia',\n",
              " 'Luana',\n",
              " 'julio',\n",
              " 'Aristides',\n",
              " 'Sebastian',\n",
              " 'Camila',\n",
              " 'Joao']"
            ]
          },
          "metadata": {},
          "execution_count": 9
        }
      ]
    },
    {
      "cell_type": "code",
      "source": [
        "notas = list( resultado_final.values())\n",
        "\n",
        "notas"
      ],
      "metadata": {
        "colab": {
          "base_uri": "https://localhost:8080/"
        },
        "id": "V4Cykm60jkMd",
        "outputId": "3a08ea07-7f77-4996-968f-b62a6c8af121"
      },
      "execution_count": 11,
      "outputs": [
        {
          "output_type": "execute_result",
          "data": {
            "text/plain": [
              "[8.5, 7.0, 6.5, 10, 8, 5.5, 6.0, 9.5, 10, 5]"
            ]
          },
          "metadata": {},
          "execution_count": 11
        }
      ]
    },
    {
      "cell_type": "code",
      "source": [
        "def consultaNota(dicNotas, nome):\n",
        "  if nome in dicNotas:\n",
        "    return dicNotas[nome]\n",
        "  else:\n",
        "    return 'Candidato Inexistente'\n"
      ],
      "metadata": {
        "id": "dSLuYIi3kKpP"
      },
      "execution_count": 12,
      "outputs": []
    },
    {
      "cell_type": "code",
      "source": [
        "nomeCandidato = input('Digite sua graça: ')\n",
        "notaCandidato  = consultaNota(resultado_final, nomeCandidato)\n",
        "print (notaCandidato)"
      ],
      "metadata": {
        "colab": {
          "base_uri": "https://localhost:8080/"
        },
        "id": "V3bFTVBJqY56",
        "outputId": "5a81407d-8e10-4b24-b239-eaa938e62194"
      },
      "execution_count": 13,
      "outputs": [
        {
          "output_type": "stream",
          "name": "stdout",
          "text": [
            "Digite sua graça: luan\n",
            "Candidato Inexistente\n"
          ]
        }
      ]
    }
  ]
}