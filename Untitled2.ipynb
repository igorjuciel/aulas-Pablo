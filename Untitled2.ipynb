{
  "nbformat": 4,
  "nbformat_minor": 0,
  "metadata": {
    "colab": {
      "provenance": [],
      "authorship_tag": "ABX9TyPpwMXpS5MTn+3wVXQubqrr",
      "include_colab_link": true
    },
    "kernelspec": {
      "name": "python3",
      "display_name": "Python 3"
    },
    "language_info": {
      "name": "python"
    }
  },
  "cells": [
    {
      "cell_type": "markdown",
      "metadata": {
        "id": "view-in-github",
        "colab_type": "text"
      },
      "source": [
        "<a href=\"https://colab.research.google.com/github/igorjuciel/aulas-Pablo/blob/main/Untitled2.ipynb\" target=\"_parent\"><img src=\"https://colab.research.google.com/assets/colab-badge.svg\" alt=\"Open In Colab\"/></a>"
      ]
    },
    {
      "cell_type": "code",
      "execution_count": 1,
      "metadata": {
        "colab": {
          "base_uri": "https://localhost:8080/"
        },
        "id": "RN4ZRpHpGZc_",
        "outputId": "e016110b-e794-4dea-c9b3-73e1df782cbf"
      },
      "outputs": [
        {
          "name": "stdout",
          "output_type": "stream",
          "text": [
            "nota 1: 12\n",
            "nota 2: 31\n",
            "nota 3: 45\n"
          ]
        }
      ],
      "source": [
        "a = float(input('nota 1: '))\n",
        "b = float(input('nota 2: '))\n",
        "c = float(input('nota 3: '))"
      ]
    },
    {
      "cell_type": "code",
      "source": [
        "def mediatotal(*notas):\n",
        "  soma = 0\n",
        "  for nota in notas:\n",
        "    soma += nota \n",
        "  media = soma/len(notas)\n",
        "  print('A media é: ',media)"
      ],
      "metadata": {
        "id": "eW-ew7DDMR5V"
      },
      "execution_count": 2,
      "outputs": []
    },
    {
      "cell_type": "code",
      "source": [
        "mediatotal(4,8,9,8,9,5,6,5,4,7,8,9,8,3)"
      ],
      "metadata": {
        "colab": {
          "base_uri": "https://localhost:8080/"
        },
        "id": "KG_MzD2sN8c0",
        "outputId": "a035ab98-c2ba-48eb-dac1-cdc13bcb8d23"
      },
      "execution_count": 4,
      "outputs": [
        {
          "output_type": "stream",
          "name": "stdout",
          "text": [
            "A media é:  6.642857142857143\n"
          ]
        }
      ]
    },
    {
      "cell_type": "code",
      "source": [
        "#recebe varios numeros e retorna o maior.\n",
        "def retornaMaior(*numeros):\n",
        "  maior = 0\n",
        "  for n in numeros:\n",
        "    if(n >= maior):\n",
        "     maior = n\n",
        "  return maior\n"
      ],
      "metadata": {
        "id": "5kSWgBnuQE0J"
      },
      "execution_count": 13,
      "outputs": []
    },
    {
      "cell_type": "code",
      "source": [
        "retornaMaior(2, 5, 17, 3, 23, 5)"
      ],
      "metadata": {
        "colab": {
          "base_uri": "https://localhost:8080/"
        },
        "id": "6A7PaRWEbxWX",
        "outputId": "f7b5d98b-e781-463a-e48b-93b5ff5c25ee"
      },
      "execution_count": 14,
      "outputs": [
        {
          "output_type": "execute_result",
          "data": {
            "text/plain": [
              "23"
            ]
          },
          "metadata": {},
          "execution_count": 14
        }
      ]
    },
    {
      "cell_type": "code",
      "source": [
        "#valor de parametro padrao\n",
        "def nacionalidade(country = 'cuba'):\n",
        "  print('Eu nasci em: '+ country)"
      ],
      "metadata": {
        "id": "vwK-0LvTfD-f"
      },
      "execution_count": 17,
      "outputs": []
    },
    {
      "cell_type": "code",
      "source": [
        "nacionalidade('Brasil')\n",
        "nacionalidade('França')\n",
        "nacionalidade('Vietnã')\n",
        "nacionalidade()"
      ],
      "metadata": {
        "colab": {
          "base_uri": "https://localhost:8080/"
        },
        "id": "TIxIrEb8cg7G",
        "outputId": "cafe29fa-8551-4ed8-856f-c217760515e8"
      },
      "execution_count": 20,
      "outputs": [
        {
          "output_type": "stream",
          "name": "stdout",
          "text": [
            "Eu nasci em: Brasil\n",
            "Eu nasci em: França\n",
            "Eu nasci em: Vietnã\n",
            "Eu nasci em: cuba\n"
          ]
        }
      ]
    },
    {
      "cell_type": "code",
      "source": [
        "#1 escreva  uma funçao que recebe dois parametros numericoa e \n",
        "#retorna a soma desses numeros.\n",
        "\n",
        "def doisnumeros(a,b):\n",
        "  return a + b"
      ],
      "metadata": {
        "id": "ccRq9fwCfwcH"
      },
      "execution_count": 19,
      "outputs": []
    },
    {
      "cell_type": "code",
      "source": [
        "#2 escreva uma funçao que recebe um numero e\n",
        "#retorna o seu valor absoluto\n",
        "\n",
        "def valorabsoluto(num):\n",
        "  if(num < 0):\n",
        "    num = num * -1\n",
        "  return num  "
      ],
      "metadata": {
        "id": "gBpWDrHGixEW"
      },
      "execution_count": 21,
      "outputs": []
    },
    {
      "cell_type": "code",
      "source": [
        "#4 escreva uma funçao que recebe uma lista de palavras e\n",
        "#retorna uma lista com as palavras que possuem mais de tres letras.\n",
        "def maiorque3(lista):\n",
        "  novaLista = []\n",
        "  for item in lista:\n",
        "     if(len(item) > 3):\n",
        "       novaLista.append(item)\n",
        "  return novaLista     "
      ],
      "metadata": {
        "id": "2YPhy3OOjjod"
      },
      "execution_count": 26,
      "outputs": []
    },
    {
      "cell_type": "code",
      "source": [
        "frutas = ['mangaba', 'uva', 'pinha']\n",
        "maiorque3(frutas)"
      ],
      "metadata": {
        "colab": {
          "base_uri": "https://localhost:8080/"
        },
        "id": "viiyhglzk5ui",
        "outputId": "3a9b9fcf-9369-47c3-e347-8b3b09082b8d"
      },
      "execution_count": 27,
      "outputs": [
        {
          "output_type": "execute_result",
          "data": {
            "text/plain": [
              "['mangaba', 'pinha']"
            ]
          },
          "metadata": {},
          "execution_count": 27
        }
      ]
    }
  ]
}