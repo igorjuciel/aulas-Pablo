{
  "nbformat": 4,
  "nbformat_minor": 0,
  "metadata": {
    "colab": {
      "provenance": [],
      "authorship_tag": "ABX9TyN494vxWhWYIQpG38s4xu4N",
      "include_colab_link": true
    },
    "kernelspec": {
      "name": "python3",
      "display_name": "Python 3"
    },
    "language_info": {
      "name": "python"
    }
  },
  "cells": [
    {
      "cell_type": "markdown",
      "metadata": {
        "id": "view-in-github",
        "colab_type": "text"
      },
      "source": [
        "<a href=\"https://colab.research.google.com/github/igorjuciel/aulas-Pablo/blob/main/Untitled5.ipynb\" target=\"_parent\"><img src=\"https://colab.research.google.com/assets/colab-badge.svg\" alt=\"Open In Colab\"/></a>"
      ]
    },
    {
      "cell_type": "code",
      "execution_count": 1,
      "metadata": {
        "colab": {
          "base_uri": "https://localhost:8080/"
        },
        "id": "WD1fBui5WBAP",
        "outputId": "f51afa2c-7a58-4319-800b-497cdb0286a7"
      },
      "outputs": [
        {
          "output_type": "execute_result",
          "data": {
            "text/plain": [
              "('maça', 'banana', 'laranja', 'goiaba')"
            ]
          },
          "metadata": {},
          "execution_count": 1
        }
      ],
      "source": [
        "tp_frutas = ('maça','banana', 'laranja','goiaba')\n",
        "tp_frutas"
      ]
    },
    {
      "cell_type": "code",
      "source": [
        "lst_frutas = list(tp_frutas)\n",
        "type(lst_frutas)\n",
        "lst_frutas"
      ],
      "metadata": {
        "colab": {
          "base_uri": "https://localhost:8080/"
        },
        "id": "Pgwrm08AWHxI",
        "outputId": "90d7bd2f-1bd2-4f33-9d23-1498f1d7fc8d"
      },
      "execution_count": 2,
      "outputs": [
        {
          "output_type": "execute_result",
          "data": {
            "text/plain": [
              "['maça', 'banana', 'laranja', 'goiaba']"
            ]
          },
          "metadata": {},
          "execution_count": 2
        }
      ]
    },
    {
      "cell_type": "code",
      "source": [
        "tp_meses = ('jan','fev', 'mar', 'abr', 'mai', 'jun', 'jul', 'ago', ' set', 'out', 'nov', ' dez')\n",
        "tp_meses[5:11]\n"
      ],
      "metadata": {
        "colab": {
          "base_uri": "https://localhost:8080/"
        },
        "id": "d99L5rYoZkrZ",
        "outputId": "2e596ce8-f137-42d0-dc54-5ce43a028dad"
      },
      "execution_count": 3,
      "outputs": [
        {
          "output_type": "execute_result",
          "data": {
            "text/plain": [
              "('jun', 'jul', 'ago', ' set', 'out', 'nov')"
            ]
          },
          "metadata": {},
          "execution_count": 3
        }
      ]
    },
    {
      "cell_type": "code",
      "source": [
        "uf_cod = [('pe', 81), ('rj', 21), ('sp', 11), ('pb', 83) ]\n",
        "\n",
        "sorted(uf_cod, key = lambda x : x[1])"
      ],
      "metadata": {
        "colab": {
          "base_uri": "https://localhost:8080/"
        },
        "id": "5sO4QkmWcLrD",
        "outputId": "c9acd171-c002-467d-a57a-f4f40cbcd116"
      },
      "execution_count": 7,
      "outputs": [
        {
          "output_type": "execute_result",
          "data": {
            "text/plain": [
              "[('sp', 11), ('rj', 21), ('pe', 81), ('pb', 83)]"
            ]
          },
          "metadata": {},
          "execution_count": 7
        }
      ]
    },
    {
      "cell_type": "code",
      "source": [
        "nome_nasc = [('zé', 2003), ('maria', 1998), ('alice' , 2000)]\n",
        "sorted(nome_nasc, key = lambda x: x[1], reverse = True)"
      ],
      "metadata": {
        "colab": {
          "base_uri": "https://localhost:8080/"
        },
        "id": "5vRdpYa7eIkb",
        "outputId": "bcac768b-2fd1-405e-9c25-f357578175bd"
      },
      "execution_count": 13,
      "outputs": [
        {
          "output_type": "execute_result",
          "data": {
            "text/plain": [
              "[('zé', 2003), ('alice', 2000), ('maria', 1998)]"
            ]
          },
          "metadata": {},
          "execution_count": 13
        }
      ]
    },
    {
      "cell_type": "code",
      "source": [
        "alunos = ('kelly', 'adauto', 'marceline', 'luana', 'henrique')\n",
        "notas = (5.5, 8, 9, 7.5, 6.5 )\n",
        "\n",
        "Av1 = tuple(zip(alunos, notas))\n",
        "Av1"
      ],
      "metadata": {
        "colab": {
          "base_uri": "https://localhost:8080/"
        },
        "id": "wwy8Ptv7oB3b",
        "outputId": "9f2cd08b-2151-44bf-e558-2c430ab6f7a0"
      },
      "execution_count": 14,
      "outputs": [
        {
          "output_type": "execute_result",
          "data": {
            "text/plain": [
              "(('kelly', 5.5),\n",
              " ('adauto', 8),\n",
              " ('marceline', 9),\n",
              " ('luana', 7.5),\n",
              " ('henrique', 6.5))"
            ]
          },
          "metadata": {},
          "execution_count": 14
        }
      ]
    },
    {
      "cell_type": "code",
      "source": [
        "def concatenatupla(tp1, tp2):\n",
        "  return tp1 + tp2\n",
        "\n",
        "a = (2, 4, 5)\n",
        "b = (6, 8, 12)\n",
        "concatenatupla(a, b)"
      ],
      "metadata": {
        "colab": {
          "base_uri": "https://localhost:8080/"
        },
        "id": "vuGQcLfduAEh",
        "outputId": "f20cc74f-05b4-47ad-acf6-db936db6fa94"
      },
      "execution_count": 15,
      "outputs": [
        {
          "output_type": "execute_result",
          "data": {
            "text/plain": [
              "(2, 4, 5, 6, 8, 12)"
            ]
          },
          "metadata": {},
          "execution_count": 15
        }
      ]
    },
    {
      "cell_type": "code",
      "source": [
        "def formatada(tupla):\n",
        "  nome, logradouro, num, bairro = tupla\n",
        "  return f'nome: {nome}, residente a {logradouro}, {num}, {bairro}.'\n",
        "\n",
        "dadosCliente = ('manoelima', 'rua das couves', '42', 'Torre')\n",
        "\n",
        "print (formatada(dadosCliente)) "
      ],
      "metadata": {
        "colab": {
          "base_uri": "https://localhost:8080/"
        },
        "id": "o0GcC9Kmv4cI",
        "outputId": "22c415df-3b13-4696-de31-85acfe89646b"
      },
      "execution_count": 21,
      "outputs": [
        {
          "output_type": "stream",
          "name": "stdout",
          "text": [
            "nome: manoelima, residente a rua das couves, 42, Torre.\n"
          ]
        }
      ]
    }
  ]
}