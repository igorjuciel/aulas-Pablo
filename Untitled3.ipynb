{
  "nbformat": 4,
  "nbformat_minor": 0,
  "metadata": {
    "colab": {
      "provenance": [],
      "authorship_tag": "ABX9TyOMrYByA4iz/Og+Vzc5A2Zu",
      "include_colab_link": true
    },
    "kernelspec": {
      "name": "python3",
      "display_name": "Python 3"
    },
    "language_info": {
      "name": "python"
    }
  },
  "cells": [
    {
      "cell_type": "markdown",
      "metadata": {
        "id": "view-in-github",
        "colab_type": "text"
      },
      "source": [
        "<a href=\"https://colab.research.google.com/github/igorjuciel/aulas-Pablo/blob/main/Untitled3.ipynb\" target=\"_parent\"><img src=\"https://colab.research.google.com/assets/colab-badge.svg\" alt=\"Open In Colab\"/></a>"
      ]
    },
    {
      "cell_type": "code",
      "execution_count": 5,
      "metadata": {
        "id": "nihRLz9xMENJ"
      },
      "outputs": [],
      "source": [
        "#1 - Escreva uma função que recebe uma lista de strings e retorma:\n",
        "  ## apenas as palavras que começam com a letra A\n",
        "  ## a quantidade de palavras encontradas\n",
        "#2 - Escreva uma função que receba uma lista de numeros e retorne o produto desses numeros.\n",
        "#3 - Escreva uma função que receba umas lista de numeroa e retorne a soma dos numeros pares.\n",
        "#4 - função recebe uma lista de nomes, e retorna a string com o maior numero de caracteres."
      ]
    },
    {
      "cell_type": "code",
      "source": [
        "def listaletraA(palavras):\n",
        "  wordA = []\n",
        "  for i in palavras:\n",
        "    if i[0] == 'a':\n",
        "      wordA.append(i)\n",
        "  print(len(wordA))    \n",
        "  return wordA    "
      ],
      "metadata": {
        "id": "zxSBA0CAUf9u"
      },
      "execution_count": 17,
      "outputs": []
    },
    {
      "cell_type": "code",
      "source": [
        "animais = ['arara', 'morcego', 'macaco', 'ariranha', 'papagaio']\n",
        "listaletraA(animais)"
      ],
      "metadata": {
        "colab": {
          "base_uri": "https://localhost:8080/"
        },
        "id": "w8ow1sXqX2Yj",
        "outputId": "0eed94f5-135d-4932-df52-a2a7909c1d05"
      },
      "execution_count": 18,
      "outputs": [
        {
          "output_type": "stream",
          "name": "stdout",
          "text": [
            "2\n"
          ]
        },
        {
          "output_type": "execute_result",
          "data": {
            "text/plain": [
              "['arara', 'ariranha']"
            ]
          },
          "metadata": {},
          "execution_count": 18
        }
      ]
    },
    {
      "cell_type": "code",
      "source": [
        "#2 - escreva uma função que receba uma lista de numeros e retorne o produto o produto desses\n",
        "def produto(numeros):\n",
        "  resultado = 1\n",
        "  for n in numeros:\n",
        "    resultado *= n \n",
        "  return resultado\n",
        "\n",
        "numerozinhos = [2, 4, 8, 16, 32] \n",
        "produto(numerozinhos)"
      ],
      "metadata": {
        "colab": {
          "base_uri": "https://localhost:8080/"
        },
        "id": "ljFBPRAHaskx",
        "outputId": "0d55fd93-d85f-49e4-d8e3-76d2ee1853a7"
      },
      "execution_count": 22,
      "outputs": [
        {
          "output_type": "execute_result",
          "data": {
            "text/plain": [
              "32768"
            ]
          },
          "metadata": {},
          "execution_count": 22
        }
      ]
    },
    {
      "cell_type": "code",
      "source": [
        "#3 - Escreva uma função que receba uma lista de numeros e retorne a soma dos numeros\n",
        "def somatorio(numeros):\n",
        "  soma = 0\n",
        "  for n in numeros:\n",
        "    if n % 2 == 0:\n",
        "      soma += n \n",
        "      return soma"
      ],
      "metadata": {
        "id": "lAD75DK8h3z9"
      },
      "execution_count": 23,
      "outputs": []
    },
    {
      "cell_type": "code",
      "source": [
        "somatorio(numerozinhos)"
      ],
      "metadata": {
        "colab": {
          "base_uri": "https://localhost:8080/"
        },
        "id": "N5z4Ebnai3R7",
        "outputId": "e25a222c-61d0-4023-9018-cc89310f02a9"
      },
      "execution_count": 24,
      "outputs": [
        {
          "output_type": "execute_result",
          "data": {
            "text/plain": [
              "2"
            ]
          },
          "metadata": {},
          "execution_count": 24
        }
      ]
    },
    {
      "cell_type": "code",
      "source": [
        "#4 - função recebe uma lista de nomes, e retona a\n",
        "#string com o maior numero de caracteres.\n",
        "users = ['zeca', 'anastacio', 'josefino', 'ivo', 'amaral']\n",
        "\n",
        "def maiorString(users):\n",
        "  maior = ''\n",
        "  for u in users:\n",
        "   if(len(u) >= len(maior)):\n",
        "      maior = u\n",
        "  return maior\n",
        "\n",
        "maiorString(users)\n",
        "\n",
        "\n",
        "\n"
      ],
      "metadata": {
        "colab": {
          "base_uri": "https://localhost:8080/",
          "height": 35
        },
        "id": "Hfw5QBJvkTH5",
        "outputId": "0ae710d6-6806-42dc-ecc2-cd2ededc3ab4"
      },
      "execution_count": 34,
      "outputs": [
        {
          "output_type": "execute_result",
          "data": {
            "text/plain": [
              "'anastacio'"
            ],
            "application/vnd.google.colaboratory.intrinsic+json": {
              "type": "string"
            }
          },
          "metadata": {},
          "execution_count": 34
        }
      ]
    },
    {
      "cell_type": "code",
      "source": [
        "#Calculo de fatorial:\n",
        "# o fatorial de um numero é o produto dele pelos seus antecessores maiores que 0:\n",
        "#por exemplo, o fatorial de 6 é: 6! = 6*5*4*3*2*1.\n",
        "def fatorial(n):\n",
        "  if(n <= 1):\n",
        "   return 1\n",
        "  else:\n",
        "    return n * fatorial "
      ],
      "metadata": {
        "id": "VShEM4Lpqr_y"
      },
      "execution_count": 36,
      "outputs": []
    }
  ]
}