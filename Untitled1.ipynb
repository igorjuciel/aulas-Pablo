{
  "nbformat": 4,
  "nbformat_minor": 0,
  "metadata": {
    "colab": {
      "provenance": [],
      "authorship_tag": "ABX9TyPwY+izaqMwsqwsUYq1ZYdd",
      "include_colab_link": true
    },
    "kernelspec": {
      "name": "python3",
      "display_name": "Python 3"
    },
    "language_info": {
      "name": "python"
    }
  },
  "cells": [
    {
      "cell_type": "markdown",
      "metadata": {
        "id": "view-in-github",
        "colab_type": "text"
      },
      "source": [
        "<a href=\"https://colab.research.google.com/github/igorjuciel/aulas-Pablo/blob/main/Untitled1.ipynb\" target=\"_parent\"><img src=\"https://colab.research.google.com/assets/colab-badge.svg\" alt=\"Open In Colab\"/></a>"
      ]
    },
    {
      "cell_type": "code",
      "execution_count": 1,
      "metadata": {
        "id": "w0auCqzvHM43"
      },
      "outputs": [],
      "source": [
        "#declaração da função\n",
        "def my_first_function():\n",
        "  print('minha primeira função')"
      ]
    },
    {
      "cell_type": "code",
      "source": [
        "#chamando uma função\n",
        "my_first_function()"
      ],
      "metadata": {
        "colab": {
          "base_uri": "https://localhost:8080/"
        },
        "id": "Fn06r83cIIWX",
        "outputId": "2262ba8c-6e2f-4079-a910-a2b0089e215b"
      },
      "execution_count": 2,
      "outputs": [
        {
          "output_type": "stream",
          "name": "stdout",
          "text": [
            "minha primeira função\n"
          ]
        }
      ]
    },
    {
      "cell_type": "code",
      "source": [
        "def pronomeTratam(pronome):\n",
        "  print(pronome, \"igor\")"
      ],
      "metadata": {
        "id": "Wo4Wq14VI2yO"
      },
      "execution_count": 14,
      "outputs": []
    },
    {
      "cell_type": "code",
      "source": [
        "pronomeTratam('Doutor')\n",
        "pronomeTratam('Ilmo')\n",
        "pronomeTratam('Seu')\n"
      ],
      "metadata": {
        "colab": {
          "base_uri": "https://localhost:8080/"
        },
        "id": "107g3s0qJLFv",
        "outputId": "fb38fa40-8cdf-4433-e9b4-ad3998df8ede"
      },
      "execution_count": 15,
      "outputs": [
        {
          "output_type": "stream",
          "name": "stdout",
          "text": [
            "Doutor igor\n",
            "Ilmo igor\n",
            "Seu igor\n"
          ]
        }
      ]
    },
    {
      "cell_type": "code",
      "source": [
        "def trataNome(pronome, nome):\n",
        "  print(pronome, nome)"
      ],
      "metadata": {
        "id": "26pv6-IIKLTl"
      },
      "execution_count": 9,
      "outputs": []
    },
    {
      "cell_type": "code",
      "source": [
        "trataNome('Dr.', 'zé')"
      ],
      "metadata": {
        "colab": {
          "base_uri": "https://localhost:8080/"
        },
        "id": "DIN6t6yJKb7R",
        "outputId": "591aa3a5-e6ee-4fa3-fadf-2a5d18b3386c"
      },
      "execution_count": 16,
      "outputs": [
        {
          "output_type": "stream",
          "name": "stdout",
          "text": [
            "Dr. zé\n"
          ]
        }
      ]
    },
    {
      "cell_type": "code",
      "source": [
        "#Fumção que recebe como parâmetro Nome e Ano de nascimento\n",
        "#Calcula a idade do sujeito e retorn algo assim como:\n",
        "#Asdrúbal tem 28 anos"
      ],
      "metadata": {
        "id": "J4f-AIAUL_B-"
      },
      "execution_count": 17,
      "outputs": []
    },
    {
      "cell_type": "code",
      "source": [
        " def nomeEAno(nome, ano):\n",
        "   idade  = 2023 - ano\n",
        "   print(nome, idade, \"anos\") "
      ],
      "metadata": {
        "id": "MKHu2NivNE0N"
      },
      "execution_count": 19,
      "outputs": []
    },
    {
      "cell_type": "code",
      "source": [
        "nomeEAno('igor',2006 )"
      ],
      "metadata": {
        "colab": {
          "base_uri": "https://localhost:8080/"
        },
        "id": "r9j6XbLdNuNb",
        "outputId": "276dbe82-236c-487a-c6e6-6295f01c057c"
      },
      "execution_count": 20,
      "outputs": [
        {
          "output_type": "stream",
          "name": "stdout",
          "text": [
            "igor 17 anos\n"
          ]
        }
      ]
    },
    {
      "cell_type": "code",
      "source": [
        "#Função que recebe altura e peso e retorna o IMC:\n",
        "#formula IMC peso/altura**2"
      ],
      "metadata": {
        "id": "jhtVO1FYOFzv"
      },
      "execution_count": null,
      "outputs": []
    },
    {
      "cell_type": "code",
      "source": [
        "def calculaIMC(altura, peso):\n",
        "  print(peso/altura**2)"
      ],
      "metadata": {
        "id": "qyZkl7B3PnNz"
      },
      "execution_count": 23,
      "outputs": []
    },
    {
      "cell_type": "code",
      "source": [
        "calculaIMC(1.80, 73)"
      ],
      "metadata": {
        "colab": {
          "base_uri": "https://localhost:8080/"
        },
        "id": "vKGlMpncQSCc",
        "outputId": "ce91a99a-3eb4-4ab5-9d60-da57fe0c2e20"
      },
      "execution_count": 25,
      "outputs": [
        {
          "output_type": "stream",
          "name": "stdout",
          "text": [
            "22.530864197530864\n"
          ]
        }
      ]
    },
    {
      "cell_type": "code",
      "source": [
        "def calculaIMC(altura, peso):\n",
        "  return(peso/altura**2)"
      ],
      "metadata": {
        "id": "it_ekYxURbdI"
      },
      "execution_count": null,
      "outputs": []
    },
    {
      "cell_type": "code",
      "source": [
        "#O calculo de juros simples é dado pela formula:\n",
        "# 3 = c * 1 * t\n",
        "# sendo:\n",
        "# j = juros simples\n",
        "# c = capital inicial\n",
        "# i = taxa de juros\n",
        "# t = tempo de aplicação\n",
        "#crie uma função que recebe um valor de emprestimo e o\n",
        "#tempo e retorno quanto será pago de juros ao final do periodo\n",
        "#use uma taxa de juros 2.5%\n",
        "\n",
        "\n",
        "\n",
        "\n"
      ],
      "metadata": {
        "id": "fyaM44ZnaNox"
      },
      "execution_count": null,
      "outputs": []
    },
    {
      "cell_type": "code",
      "source": [
        "def jurosSimples(valor, tempo):\n",
        "  return valor * 0.025 * tempo"
      ],
      "metadata": {
        "id": "_GDRFv6RdKm2"
      },
      "execution_count": 27,
      "outputs": []
    },
    {
      "cell_type": "code",
      "source": [
        "jurosSimples(1000, 5)\n"
      ],
      "metadata": {
        "colab": {
          "base_uri": "https://localhost:8080/"
        },
        "id": "ePK-GuHgdxFC",
        "outputId": "ac559405-4648-466a-d4c7-28d5fce3ac1b"
      },
      "execution_count": 28,
      "outputs": [
        {
          "output_type": "execute_result",
          "data": {
            "text/plain": [
              "125.0"
            ]
          },
          "metadata": {},
          "execution_count": 28
        }
      ]
    },
    {
      "cell_type": "code",
      "source": [
        "def valortotalEmprestimo(valor, tempo):\n",
        "  return valor + jurosSimples(valor, tempo)"
      ],
      "metadata": {
        "id": "LZUv2YHbd6j4"
      },
      "execution_count": 29,
      "outputs": []
    },
    {
      "cell_type": "code",
      "source": [
        "valortotalEmprestimo(1000, 12)"
      ],
      "metadata": {
        "colab": {
          "base_uri": "https://localhost:8080/"
        },
        "id": "Md14T0KueW3V",
        "outputId": "ad2a04e5-b82d-48df-9c52-bd02e8dc4377"
      },
      "execution_count": 30,
      "outputs": [
        {
          "output_type": "execute_result",
          "data": {
            "text/plain": [
              "1300.0"
            ]
          },
          "metadata": {},
          "execution_count": 30
        }
      ]
    },
    {
      "cell_type": "code",
      "source": [
        "#programa que solicita o valor do emprestimo e o tempo\n",
        "valor = float(input('digite o valor do emprestimo: '))\n",
        "tempo = int(input('em quanto tempo? ' ))\n",
        "\n",
        "valortotalEmprestimo(valor, tempo)"
      ],
      "metadata": {
        "colab": {
          "base_uri": "https://localhost:8080/"
        },
        "id": "x5UNfXOwfjl7",
        "outputId": "2de9c07a-a7ec-426c-f4fa-3dd3bee4a8b6"
      },
      "execution_count": 32,
      "outputs": [
        {
          "name": "stdout",
          "output_type": "stream",
          "text": [
            "digite o valor do emprestimo: 7135\n",
            "em quanto tempo? 10\n"
          ]
        },
        {
          "output_type": "execute_result",
          "data": {
            "text/plain": [
              "8918.75"
            ]
          },
          "metadata": {},
          "execution_count": 32
        }
      ]
    }
  ]
}